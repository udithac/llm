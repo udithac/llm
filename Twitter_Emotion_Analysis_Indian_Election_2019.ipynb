{
  "metadata": {
    "colab": {
      "provenance": [],
      "gpuType": "T4",
      "name": "Twitter Emotion Analysis  - Indian Election 2019",
      "include_colab_link": true
    },
    "kernelspec": {
      "name": "python3",
      "display_name": "Python 3",
      "language": "python"
    },
    "language_info": {
      "name": "python",
      "version": "3.10.13",
      "mimetype": "text/x-python",
      "codemirror_mode": {
        "name": "ipython",
        "version": 3
      },
      "pygments_lexer": "ipython3",
      "nbconvert_exporter": "python",
      "file_extension": ".py"
    },
    "accelerator": "GPU",
    "kaggle": {
      "accelerator": "nvidiaTeslaT4",
      "dataSources": [
        {
          "sourceId": 8715438,
          "sourceType": "datasetVersion",
          "datasetId": 5228925
        }
      ],
      "dockerImageVersionId": 30733,
      "isInternetEnabled": true,
      "language": "python",
      "sourceType": "notebook",
      "isGpuEnabled": true
    }
  },
  "nbformat_minor": 0,
  "nbformat": 4,
  "cells": [
    {
      "cell_type": "markdown",
      "metadata": {
        "id": "view-in-github",
        "colab_type": "text"
      },
      "source": [
        "<a href=\"https://colab.research.google.com/github/udithac/llm/blob/main/Twitter_Emotion_Analysis_Indian_Election_2019.ipynb\" target=\"_parent\"><img src=\"https://colab.research.google.com/assets/colab-badge.svg\" alt=\"Open In Colab\"/></a>"
      ]
    },
    {
      "source": [
        "\n",
        "# IMPORTANT: RUN THIS CELL IN ORDER TO IMPORT YOUR KAGGLE DATA SOURCES\n",
        "# TO THE CORRECT LOCATION (/kaggle/input) IN YOUR NOTEBOOK,\n",
        "# THEN FEEL FREE TO DELETE THIS CELL.\n",
        "# NOTE: THIS NOTEBOOK ENVIRONMENT DIFFERS FROM KAGGLE'S PYTHON\n",
        "# ENVIRONMENT SO THERE MAY BE MISSING LIBRARIES USED BY YOUR\n",
        "# NOTEBOOK.\n",
        "\n",
        "import os\n",
        "import sys\n",
        "from tempfile import NamedTemporaryFile\n",
        "from urllib.request import urlopen\n",
        "from urllib.parse import unquote, urlparse\n",
        "from urllib.error import HTTPError\n",
        "from zipfile import ZipFile\n",
        "import tarfile\n",
        "import shutil\n",
        "\n",
        "CHUNK_SIZE = 40960\n",
        "DATA_SOURCE_MAPPING = 'tweetdatasets:https%3A%2F%2Fstorage.googleapis.com%2Fkaggle-data-sets%2F5228925%2F8715438%2Fbundle%2Farchive.zip%3FX-Goog-Algorithm%3DGOOG4-RSA-SHA256%26X-Goog-Credential%3Dgcp-kaggle-com%2540kaggle-161607.iam.gserviceaccount.com%252F20240626%252Fauto%252Fstorage%252Fgoog4_request%26X-Goog-Date%3D20240626T140431Z%26X-Goog-Expires%3D259200%26X-Goog-SignedHeaders%3Dhost%26X-Goog-Signature%3D2008061a6749084b68ba80ff109ca1a7e59562bd387c167f75ab2ad7bad88ace785e52bbfafc6028ab34b1b8fa0d1b324a71fce53dd4b65a3976d4b7f872f0e388c337d820f634d141e41618c7153290afd0ee663aa57aecf3dacd0630fa0147f4c88397a83cb79697e09bbab7c843d8034541848ca9af7d4846dd6171bac968ce16e76f5a1fc8b7f26c22d3faaae08656b18009ff3c3390e6dd232e5225a3324e8407c046fd89be5ed5b5e72b5d290e6b3fb8b3c127f788be15fbf0aeed956ab72f6dcbccccc873131c2c41c68fe76eae743d83641e45a80115d94ea2a99e5096f1f7dcba96aec4cb456e93075fe858df67986563096a768578d25775bfeec3'\n",
        "\n",
        "KAGGLE_INPUT_PATH='/kaggle/input'\n",
        "KAGGLE_WORKING_PATH='/kaggle/working'\n",
        "KAGGLE_SYMLINK='kaggle'\n",
        "\n",
        "!umount /kaggle/input/ 2> /dev/null\n",
        "shutil.rmtree('/kaggle/input', ignore_errors=True)\n",
        "os.makedirs(KAGGLE_INPUT_PATH, 0o777, exist_ok=True)\n",
        "os.makedirs(KAGGLE_WORKING_PATH, 0o777, exist_ok=True)\n",
        "\n",
        "try:\n",
        "  os.symlink(KAGGLE_INPUT_PATH, os.path.join(\"..\", 'input'), target_is_directory=True)\n",
        "except FileExistsError:\n",
        "  pass\n",
        "try:\n",
        "  os.symlink(KAGGLE_WORKING_PATH, os.path.join(\"..\", 'working'), target_is_directory=True)\n",
        "except FileExistsError:\n",
        "  pass\n",
        "\n",
        "for data_source_mapping in DATA_SOURCE_MAPPING.split(','):\n",
        "    directory, download_url_encoded = data_source_mapping.split(':')\n",
        "    download_url = unquote(download_url_encoded)\n",
        "    filename = urlparse(download_url).path\n",
        "    destination_path = os.path.join(KAGGLE_INPUT_PATH, directory)\n",
        "    try:\n",
        "        with urlopen(download_url) as fileres, NamedTemporaryFile() as tfile:\n",
        "            total_length = fileres.headers['content-length']\n",
        "            print(f'Downloading {directory}, {total_length} bytes compressed')\n",
        "            dl = 0\n",
        "            data = fileres.read(CHUNK_SIZE)\n",
        "            while len(data) > 0:\n",
        "                dl += len(data)\n",
        "                tfile.write(data)\n",
        "                done = int(50 * dl / int(total_length))\n",
        "                sys.stdout.write(f\"\\r[{'=' * done}{' ' * (50-done)}] {dl} bytes downloaded\")\n",
        "                sys.stdout.flush()\n",
        "                data = fileres.read(CHUNK_SIZE)\n",
        "            if filename.endswith('.zip'):\n",
        "              with ZipFile(tfile) as zfile:\n",
        "                zfile.extractall(destination_path)\n",
        "            else:\n",
        "              with tarfile.open(tfile.name) as tarfile:\n",
        "                tarfile.extractall(destination_path)\n",
        "            print(f'\\nDownloaded and uncompressed: {directory}')\n",
        "    except HTTPError as e:\n",
        "        print(f'Failed to load (likely expired) {download_url} to path {destination_path}')\n",
        "        continue\n",
        "    except OSError as e:\n",
        "        print(f'Failed to load {download_url} to path {destination_path}')\n",
        "        continue\n",
        "\n",
        "print('Data source import complete.')\n"
      ],
      "metadata": {
        "id": "y1qDc3zS3MgC"
      },
      "cell_type": "code",
      "outputs": [],
      "execution_count": null
    },
    {
      "cell_type": "markdown",
      "source": [
        "# Emotion Analysis of Tweets by Political Candidates in the 2019 Indian Election.\n",
        "\n",
        "### To constitute India's 17th Lok Sabha, general elections were held in April–May 2019. The results were announced on 23 May 2019. The main contenders were two alliance groups of the Incumbent BJP (Candidate: Mr. Narendra Modhi) leading National Democratic Alliance (Candidate: Mr. Rahul Ghandi) and the Opposition United Progressive Alliance and Indian National Congress respectively.\n",
        "### Source: https://en.wikipedia.org/wiki/Results_of_the_2019_Indian_general_election"
      ],
      "metadata": {
        "id": "fh7Z1qec3MgJ"
      }
    },
    {
      "cell_type": "markdown",
      "source": [
        "# Project Summary: Emotion Analysis of Tweets by Political Candidates in the 2019 Indian Election\n",
        "\n",
        "## Objective\n",
        "#### To analyze and visualize the trends in emotions expressed in tweets by the main political candidates, Rahul Gandhi and Narendra Modi, during the 2019 Indian election.\n",
        "\n",
        "## Key Steps\n",
        "\n",
        "#### Data Preparation\n",
        "#### - Gathered tweet data for the main political candidates, Rahul Gandhi and Narendra Modi.\n",
        "#### - Each tweet was annotated with an emotion (sentiment) label such as positive, negative, or neutral.\n",
        "\n",
        "### Emotion Trend Analysis\n",
        "#### - Grouped the tweet data by candidate, date, and sentiment.\n",
        "#### - Counted the occurrences of each sentiment for each candidate on each date.\n",
        "#### - Plotted line graphs to show how the number of tweets expressing different emotions changed over time for each candidate.\n",
        "\n",
        "### Tweet Count Comparison\n",
        "#### - Grouped the tweet data by candidate.\n",
        "#### - Counted the total number of tweets for each candidate.\n",
        "#### - Created a horizontal bar plot to display the tweet counts for each candidate, with counts labeled at the end of each bar for clarity.\n",
        "\n",
        "## Visualizations\n",
        "\n",
        "#### Emotion Trends by Candidate\n",
        "#### - Line plots showing the trends in different emotions (positive, negative, neutral) for each candidate (Rahul Gandhi and Narendra Modi) over time.\n",
        "#### - Enhanced readability with clear labels, legends, and grid lines.\n",
        "\n",
        "### Tweet Counts by Candidate\n",
        "#### - Horizontal bar plot comparing the total tweet counts for each candidate.\n",
        "#### - Custom colors and labels to highlight the data distribution.\n",
        "\n",
        "## Key Customizations\n",
        "#### - Improved plot readability with larger fonts and clear labeling.\n",
        "#### - Added count labels to bar plots for easy comparison.\n",
        "#### - Enhanced plot aesthetics by removing unnecessary spines and using a tight layout to avoid overlaps.\n",
        "\n"
      ],
      "metadata": {
        "id": "I3mCk_kP3MgN"
      }
    },
    {
      "cell_type": "code",
      "source": [
        "# import required libraries\n",
        "import pandas as pd\n",
        "import matplotlib.pyplot as plt\n",
        "import seaborn as sns"
      ],
      "metadata": {
        "execution": {
          "iopub.status.busy": "2024-06-23T09:43:08.435765Z",
          "iopub.execute_input": "2024-06-23T09:43:08.43646Z",
          "iopub.status.idle": "2024-06-23T09:43:08.963065Z",
          "shell.execute_reply.started": "2024-06-23T09:43:08.436431Z",
          "shell.execute_reply": "2024-06-23T09:43:08.962141Z"
        },
        "trusted": true,
        "id": "YyesXJ7R3MgO"
      },
      "execution_count": null,
      "outputs": []
    },
    {
      "cell_type": "code",
      "source": [
        "#open data sets\n",
        "df_modi = pd.read_csv('/kaggle/input/tweetdatasets/ModiRelatedTweetsWithSentiment.csv')\n",
        "df_rahul = pd.read_csv('/kaggle/input/tweetdatasets/RahulRelatedTweetsWithSentiment.csv')"
      ],
      "metadata": {
        "id": "xtEixfuVw2LM",
        "execution": {
          "iopub.status.busy": "2024-06-23T09:43:08.964721Z",
          "iopub.execute_input": "2024-06-23T09:43:08.965145Z",
          "iopub.status.idle": "2024-06-23T09:43:09.330465Z",
          "shell.execute_reply.started": "2024-06-23T09:43:08.965119Z",
          "shell.execute_reply": "2024-06-23T09:43:09.329437Z"
        },
        "trusted": true
      },
      "execution_count": null,
      "outputs": []
    },
    {
      "cell_type": "code",
      "source": [
        "# illustrate data frames\n",
        "print(\"*** Modi Related Tweet Data Frame\")\n",
        "print(df_modi.info())\n",
        "print(df_modi.describe())\n",
        "print(df_modi.dtypes)\n",
        "print(df_modi.head())\n",
        "print(df_modi.tail())\n",
        "print(\"*** Missing Values\")\n",
        "print(df_modi.isnull().sum())"
      ],
      "metadata": {
        "id": "ABEPLW-Ix89W",
        "execution": {
          "iopub.status.busy": "2024-06-23T09:43:09.331617Z",
          "iopub.execute_input": "2024-06-23T09:43:09.331971Z",
          "iopub.status.idle": "2024-06-23T09:43:09.500553Z",
          "shell.execute_reply.started": "2024-06-23T09:43:09.331931Z",
          "shell.execute_reply": "2024-06-23T09:43:09.499595Z"
        },
        "trusted": true
      },
      "execution_count": null,
      "outputs": []
    },
    {
      "cell_type": "code",
      "source": [
        "# There are some missing values, lets drop those recs\n",
        "df_modi.dropna(inplace=True)"
      ],
      "metadata": {
        "id": "AZ1jAOvNz_fP",
        "execution": {
          "iopub.status.busy": "2024-06-23T09:43:09.502589Z",
          "iopub.execute_input": "2024-06-23T09:43:09.50297Z",
          "iopub.status.idle": "2024-06-23T09:43:09.523962Z",
          "shell.execute_reply.started": "2024-06-23T09:43:09.502942Z",
          "shell.execute_reply": "2024-06-23T09:43:09.523018Z"
        },
        "trusted": true
      },
      "execution_count": null,
      "outputs": []
    },
    {
      "cell_type": "code",
      "source": [
        "df_modi.isnull().sum()"
      ],
      "metadata": {
        "id": "pVdFMdYa0dKb",
        "execution": {
          "iopub.status.busy": "2024-06-23T09:43:09.525085Z",
          "iopub.execute_input": "2024-06-23T09:43:09.525416Z",
          "iopub.status.idle": "2024-06-23T09:43:09.548242Z",
          "shell.execute_reply.started": "2024-06-23T09:43:09.525383Z",
          "shell.execute_reply": "2024-06-23T09:43:09.547299Z"
        },
        "trusted": true
      },
      "execution_count": null,
      "outputs": []
    },
    {
      "cell_type": "code",
      "source": [
        "#Now No missing Values\n",
        "df_modi.info()"
      ],
      "metadata": {
        "id": "lFLB4HML0jWC",
        "execution": {
          "iopub.status.busy": "2024-06-23T09:43:09.5493Z",
          "iopub.execute_input": "2024-06-23T09:43:09.549636Z",
          "iopub.status.idle": "2024-06-23T09:43:09.570075Z",
          "shell.execute_reply.started": "2024-06-23T09:43:09.549603Z",
          "shell.execute_reply": "2024-06-23T09:43:09.569155Z"
        },
        "trusted": true
      },
      "execution_count": null,
      "outputs": []
    },
    {
      "cell_type": "code",
      "source": [
        "print(\"*** Rahul Related Tweets\")\n",
        "print(df_rahul.info())\n",
        "print(df_rahul.describe())\n",
        "print(df_rahul.dtypes)\n",
        "print(df_rahul.head())\n",
        "print(df_rahul.tail())\n",
        "print(\"*** Missing Values\")\n",
        "print(df_rahul.isnull().sum())"
      ],
      "metadata": {
        "id": "0ueh4O7jy0QO",
        "execution": {
          "iopub.status.busy": "2024-06-23T09:43:09.571211Z",
          "iopub.execute_input": "2024-06-23T09:43:09.571556Z",
          "iopub.status.idle": "2024-06-23T09:43:09.609229Z",
          "shell.execute_reply.started": "2024-06-23T09:43:09.571532Z",
          "shell.execute_reply": "2024-06-23T09:43:09.60844Z"
        },
        "trusted": true
      },
      "execution_count": null,
      "outputs": []
    },
    {
      "cell_type": "code",
      "source": [
        "# There are no any missing values for Rahul"
      ],
      "metadata": {
        "id": "-Pqqbbo6zjUp",
        "execution": {
          "iopub.status.busy": "2024-06-23T09:43:09.610193Z",
          "iopub.execute_input": "2024-06-23T09:43:09.610444Z",
          "iopub.status.idle": "2024-06-23T09:43:09.614151Z",
          "shell.execute_reply.started": "2024-06-23T09:43:09.610422Z",
          "shell.execute_reply": "2024-06-23T09:43:09.613167Z"
        },
        "trusted": true
      },
      "execution_count": null,
      "outputs": []
    },
    {
      "cell_type": "code",
      "source": [
        "# Let's combine two data frames into one, then we can easily compare the results\n",
        "df_modi['Candidate']='Modi'\n",
        "df_rahul['Candidate']='Rahul'\n",
        "df = pd.concat([ df_modi[['Candidate','Date','Tweet','Emotion']],df_rahul[['Candidate','Date','Tweet','Emotion']] ])\n",
        "df"
      ],
      "metadata": {
        "id": "giItjYUzyomx",
        "execution": {
          "iopub.status.busy": "2024-06-23T09:43:09.615232Z",
          "iopub.execute_input": "2024-06-23T09:43:09.615523Z",
          "iopub.status.idle": "2024-06-23T09:43:09.643584Z",
          "shell.execute_reply.started": "2024-06-23T09:43:09.615501Z",
          "shell.execute_reply": "2024-06-23T09:43:09.642823Z"
        },
        "trusted": true
      },
      "execution_count": null,
      "outputs": []
    },
    {
      "cell_type": "markdown",
      "source": [
        "## Exploratory Data Analysis - EDA"
      ],
      "metadata": {
        "id": "M-OnE1cc3MgR"
      }
    },
    {
      "cell_type": "code",
      "source": [
        "df.rename(columns={'Emotion': 'Sentiment'}, inplace=True)\n",
        "\n",
        "# Replace 'pos' and 'neg' with 'Positive' and 'Negative'\n",
        "df['Sentiment'] = df['Sentiment'].replace({'pos': 'Positive', 'neg': 'Negative'})"
      ],
      "metadata": {
        "execution": {
          "iopub.status.busy": "2024-06-23T09:43:09.647552Z",
          "iopub.execute_input": "2024-06-23T09:43:09.647824Z",
          "iopub.status.idle": "2024-06-23T09:43:09.664543Z",
          "shell.execute_reply.started": "2024-06-23T09:43:09.647802Z",
          "shell.execute_reply": "2024-06-23T09:43:09.663733Z"
        },
        "trusted": true,
        "id": "BlzvrYEM3MgR"
      },
      "execution_count": null,
      "outputs": []
    },
    {
      "cell_type": "code",
      "source": [
        "import matplotlib.pyplot as plt\n",
        "\n",
        "# Group by 'Candidate' and count the occurrences\n",
        "candidate_counts = df.groupby('Candidate').size()\n",
        "\n",
        "# Create the bar plot with custom colors\n",
        "colors = ['orange', 'green']  # Assign specific colors to each bar\n",
        "ax = candidate_counts.plot(kind='barh', color=colors, figsize=(10, 6))\n",
        "\n",
        "# Add count labels at the end of each bar\n",
        "for i in ax.patches:\n",
        "    ax.text(i.get_width() + 0.3, i.get_y() + i.get_height() / 2,\n",
        "            str(int(i.get_width())),\n",
        "            ha='center', va='center', fontsize=12, color='black')\n",
        "\n",
        "# Customize the plot appearance\n",
        "plt.gca().spines[['top', 'right']].set_visible(False)\n",
        "plt.xlabel('Count', fontsize=14)\n",
        "plt.ylabel('Candidate', fontsize=14)\n",
        "plt.title('Tweet Counts by Candidate', fontsize=16)\n",
        "plt.xticks(fontsize=12)\n",
        "plt.yticks(fontsize=12)\n",
        "\n",
        "# Show the plot\n",
        "plt.tight_layout()\n",
        "plt.show()\n"
      ],
      "metadata": {
        "id": "FiNH4faTCq-m",
        "execution": {
          "iopub.status.busy": "2024-06-23T09:43:09.665607Z",
          "iopub.execute_input": "2024-06-23T09:43:09.665958Z",
          "iopub.status.idle": "2024-06-23T09:43:10.151578Z",
          "shell.execute_reply.started": "2024-06-23T09:43:09.665925Z",
          "shell.execute_reply": "2024-06-23T09:43:10.150733Z"
        },
        "trusted": true
      },
      "execution_count": null,
      "outputs": []
    },
    {
      "cell_type": "code",
      "source": [
        "# Group by 'Candidate' and count the occurrences\n",
        "candidate_counts = df.groupby('Candidate').size()\n",
        "\n",
        "# Define colors for the pie chart\n",
        "colors = ['orange', 'green']\n",
        "\n",
        "# Create the pie chart\n",
        "plt.figure(figsize=(8, 6))\n",
        "candidate_counts.plot(kind='pie', colors=colors, autopct='%1.1f%%', startangle=90, counterclock=False)\n",
        "\n",
        "# Customize the plot appearance\n",
        "plt.gca().spines[['top', 'right', 'left', 'bottom']].set_visible(False)\n",
        "plt.ylabel('')  # Remove the default ylabel\n",
        "plt.title('Tweet Distribution by Candidate')\n",
        "\n",
        "# Show the plot\n",
        "plt.show()"
      ],
      "metadata": {
        "id": "_aSLN9-oBmjS",
        "execution": {
          "iopub.status.busy": "2024-06-23T09:43:10.152803Z",
          "iopub.execute_input": "2024-06-23T09:43:10.153139Z",
          "iopub.status.idle": "2024-06-23T09:43:10.304922Z",
          "shell.execute_reply.started": "2024-06-23T09:43:10.153109Z",
          "shell.execute_reply": "2024-06-23T09:43:10.303667Z"
        },
        "trusted": true
      },
      "execution_count": null,
      "outputs": []
    },
    {
      "cell_type": "code",
      "source": [
        "# Group emotions by candidate and sentiment\n",
        "emotion_counts = df.groupby(['Candidate', 'Sentiment']).size().unstack(fill_value=0)\n",
        "\n",
        "#Calculate total sentiment count per candidate (row-wise sum)\n",
        "total_count_per_candidate = emotion_counts.sum(axis=1)\n",
        "\n",
        "# Calculate percentages for each sentiment category\n",
        "percentages = emotion_counts.div(total_count_per_candidate, axis=0) * 100\n",
        "\n",
        "# Create the bar chart\n",
        "percentages.plot(kind='bar', stacked=False, color=['#FC5D68', '#09A563'])  # Set your desired colors\n",
        "\n",
        "# Customize plot\n",
        "plt.title('Sentiment Distribution (%) by Candidate')\n",
        "plt.xlabel('Candidate')\n",
        "plt.ylabel('Percentage (%)')\n",
        "plt.xticks(rotation=0)  # Rotate x-axis labels for better readability\n",
        "plt.legend(title='Sentiment')\n",
        "\n",
        "# Add percentage labels on top of bars\n",
        "for bar_container in plt.gca().containers:\n",
        "    for bar in bar_container:\n",
        "        yval = bar.get_height()\n",
        "        plt.text(bar.get_x() + bar.get_width() / 2, yval + 1, f'{yval:.1f}%', ha='center', va='bottom')\n",
        "\n",
        "plt.show()"
      ],
      "metadata": {
        "execution": {
          "iopub.status.busy": "2024-06-23T09:43:10.306917Z",
          "iopub.execute_input": "2024-06-23T09:43:10.307863Z",
          "iopub.status.idle": "2024-06-23T09:43:10.631861Z",
          "shell.execute_reply.started": "2024-06-23T09:43:10.307817Z",
          "shell.execute_reply": "2024-06-23T09:43:10.630948Z"
        },
        "trusted": true,
        "id": "POx-WWrZ3MgS"
      },
      "execution_count": null,
      "outputs": []
    },
    {
      "cell_type": "code",
      "source": [
        "#Let's group the tweets by candicate, sentimentes\n",
        "result=df.groupby(['Candidate', 'Sentiment']).size().unstack(fill_value=0)\n",
        "print(\"*** Distribution of Sentiment by Candidates\")\n",
        "print(result)\n",
        "print(\"*** Totals:\")\n",
        "print(result.sum(axis=1))"
      ],
      "metadata": {
        "execution": {
          "iopub.status.busy": "2024-06-23T09:43:10.63289Z",
          "iopub.execute_input": "2024-06-23T09:43:10.633144Z",
          "iopub.status.idle": "2024-06-23T09:43:10.650546Z",
          "shell.execute_reply.started": "2024-06-23T09:43:10.633121Z",
          "shell.execute_reply": "2024-06-23T09:43:10.649732Z"
        },
        "trusted": true,
        "id": "uJWgbves3MgS"
      },
      "execution_count": null,
      "outputs": []
    },
    {
      "cell_type": "markdown",
      "source": [
        "### The Data Frame is inblanced, where 'Modi' has significant more entries compaired to 'Rahul'.\n",
        "### It is understood that this a \"Natural Inbalance\" since the world-senario inherently lead because Modi is the president/leader of the country at that time.\n",
        "### We use Under-sampling method to remove from the majority class ('Modi') to match the size of the minority class to balance the distribution."
      ],
      "metadata": {
        "id": "yuAVLVYR3MgS"
      }
    },
    {
      "cell_type": "code",
      "source": [
        "# Identify Minority and Majority Classes\n",
        "candidate_counts = df['Candidate'].value_counts()\n",
        "majority_class = candidate_counts.idxmax()\n",
        "minority_class_count = candidate_counts.min()\n",
        "print(f' Majority Class: {majority_class}')\n",
        "print(f' Minority Class count: {minority_class_count}')"
      ],
      "metadata": {
        "execution": {
          "iopub.status.busy": "2024-06-23T09:43:10.651567Z",
          "iopub.execute_input": "2024-06-23T09:43:10.652189Z",
          "iopub.status.idle": "2024-06-23T09:43:10.66279Z",
          "shell.execute_reply.started": "2024-06-23T09:43:10.652163Z",
          "shell.execute_reply": "2024-06-23T09:43:10.661724Z"
        },
        "trusted": true,
        "id": "QZT8jXVP3MgS"
      },
      "execution_count": null,
      "outputs": []
    },
    {
      "cell_type": "code",
      "source": [
        "# Under-Sampling majority class\n",
        "# Randomly sample entries from the majority class to match the minority class size\n",
        "majority_class_df = df[df['Candidate'] == majority_class]\n",
        "undersampled_majority_class = majority_class_df.sample(minority_class_count, random_state=42)  # Set random_state for reproducibility\n",
        "\n",
        "# Combine undersampled majority with minority class for balanced data\n",
        "balanced_df = pd.concat([undersampled_majority_class, df[df['Candidate'] != majority_class]])\n",
        "balanced_df"
      ],
      "metadata": {
        "execution": {
          "iopub.status.busy": "2024-06-23T09:43:10.663923Z",
          "iopub.execute_input": "2024-06-23T09:43:10.66422Z",
          "iopub.status.idle": "2024-06-23T09:43:10.702515Z",
          "shell.execute_reply.started": "2024-06-23T09:43:10.664192Z",
          "shell.execute_reply": "2024-06-23T09:43:10.701724Z"
        },
        "trusted": true,
        "id": "pobc4MRE3MgS"
      },
      "execution_count": null,
      "outputs": []
    },
    {
      "cell_type": "code",
      "source": [
        "#Let's group the tweets by candicate, sentimentes\n",
        "df_b=balanced_df.groupby(['Candidate', 'Sentiment']).size().unstack(fill_value=0)\n",
        "print(\"*** Balanced Data: Distribution of Sentiment by Candidates\")\n",
        "print(df_b)\n",
        "print(\"*** Totals:\")\n",
        "print(df_b.sum(axis=1))"
      ],
      "metadata": {
        "execution": {
          "iopub.status.busy": "2024-06-23T09:43:10.704228Z",
          "iopub.execute_input": "2024-06-23T09:43:10.704491Z",
          "iopub.status.idle": "2024-06-23T09:43:10.719014Z",
          "shell.execute_reply.started": "2024-06-23T09:43:10.704468Z",
          "shell.execute_reply": "2024-06-23T09:43:10.718058Z"
        },
        "trusted": true,
        "id": "dRtE1Rpn3MgS"
      },
      "execution_count": null,
      "outputs": []
    },
    {
      "cell_type": "code",
      "source": [
        "#balanced_df=df\n",
        "balanced_df"
      ],
      "metadata": {
        "execution": {
          "iopub.status.busy": "2024-06-23T09:43:10.719957Z",
          "iopub.execute_input": "2024-06-23T09:43:10.72024Z",
          "iopub.status.idle": "2024-06-23T09:43:10.731365Z",
          "shell.execute_reply.started": "2024-06-23T09:43:10.720211Z",
          "shell.execute_reply": "2024-06-23T09:43:10.730495Z"
        },
        "trusted": true,
        "id": "rOt3G2s63MgT"
      },
      "execution_count": null,
      "outputs": []
    },
    {
      "cell_type": "code",
      "source": [
        "# Group emotions by candidate and sentiment\n",
        "b_emotion_counts = balanced_df.groupby(['Candidate', 'Sentiment']).size().unstack(fill_value=0)\n",
        "\n",
        "#Calculate total sentiment count per candidate (row-wise sum)\n",
        "b_total_count_per_candidate = b_emotion_counts.sum(axis=1)\n",
        "\n",
        "# Calculate percentages for each sentiment category\n",
        "b_percentages = b_emotion_counts.div(b_total_count_per_candidate, axis=0) * 100\n",
        "\n",
        "# Create the bar chart\n",
        "b_percentages.plot(kind='bar', stacked=False, color=['#FC5D68', '#09A563'])  # Set your desired colors\n",
        "\n",
        "# Customize plot\n",
        "plt.title('Balanced Data: Sentiment Distribution (%) by Candidate')\n",
        "plt.xlabel('Candidate')\n",
        "plt.ylabel('Percentage (%)')\n",
        "plt.xticks(rotation=0)  # Rotate x-axis labels for better readability\n",
        "plt.legend(title='Sentiment')\n",
        "\n",
        "# Add percentage labels on top of bars\n",
        "for bar_container in plt.gca().containers:\n",
        "    for bar in bar_container:\n",
        "        yval = bar.get_height()\n",
        "        plt.text(bar.get_x() + bar.get_width() / 2, yval + 1, f'{yval:.1f}%', ha='center', va='bottom')\n",
        "\n",
        "plt.show()"
      ],
      "metadata": {
        "execution": {
          "iopub.status.busy": "2024-06-23T09:43:10.732355Z",
          "iopub.execute_input": "2024-06-23T09:43:10.73265Z",
          "iopub.status.idle": "2024-06-23T09:43:10.960454Z",
          "shell.execute_reply.started": "2024-06-23T09:43:10.732627Z",
          "shell.execute_reply": "2024-06-23T09:43:10.95962Z"
        },
        "trusted": true,
        "id": "VJf9kI3b3MgT"
      },
      "execution_count": null,
      "outputs": []
    },
    {
      "cell_type": "markdown",
      "source": [
        "### Balance data treatment has been applied without harming the real senario....**"
      ],
      "metadata": {
        "id": "Z1h3yIH33MgU"
      }
    },
    {
      "cell_type": "markdown",
      "source": [
        "# Emotional Analysis\n",
        "## Sentiment Analysis of Comments with pysentimiento\n",
        "\n",
        "### This script demonstrates how to analyze the sentiment of comments using a pre-trained transformer model from the pysentimiento library. This allows us to understand the emotional tone behind the comments, which can be valuable for various tasks like customer feedback analysis or social media monitoring."
      ],
      "metadata": {
        "id": "CwmLmwsp3MgU"
      }
    },
    {
      "cell_type": "code",
      "source": [],
      "metadata": {
        "id": "LIJhm3Re3MgU"
      },
      "execution_count": null,
      "outputs": []
    },
    {
      "cell_type": "code",
      "source": [
        "!pip install pysentimiento"
      ],
      "metadata": {
        "execution": {
          "iopub.status.busy": "2024-06-23T09:43:10.961575Z",
          "iopub.execute_input": "2024-06-23T09:43:10.961916Z",
          "iopub.status.idle": "2024-06-23T09:43:25.854364Z",
          "shell.execute_reply.started": "2024-06-23T09:43:10.961885Z",
          "shell.execute_reply": "2024-06-23T09:43:25.853205Z"
        },
        "trusted": true,
        "id": "AVF8Iqz93MgU"
      },
      "execution_count": null,
      "outputs": []
    },
    {
      "cell_type": "code",
      "source": [
        "from pysentimiento import create_analyzer\n",
        "emotion_analyzer = create_analyzer(task=\"emotion\", lang=\"en\")"
      ],
      "metadata": {
        "id": "tKKRJspV6I2A",
        "execution": {
          "iopub.status.busy": "2024-06-23T09:43:25.855819Z",
          "iopub.execute_input": "2024-06-23T09:43:25.856139Z",
          "iopub.status.idle": "2024-06-23T09:43:58.668438Z",
          "shell.execute_reply.started": "2024-06-23T09:43:25.856111Z",
          "shell.execute_reply": "2024-06-23T09:43:58.667732Z"
        },
        "trusted": true
      },
      "execution_count": null,
      "outputs": []
    },
    {
      "cell_type": "code",
      "source": [
        "df"
      ],
      "metadata": {
        "execution": {
          "iopub.status.busy": "2024-06-23T09:43:58.669402Z",
          "iopub.execute_input": "2024-06-23T09:43:58.669667Z",
          "iopub.status.idle": "2024-06-23T09:43:58.682203Z",
          "shell.execute_reply.started": "2024-06-23T09:43:58.669643Z",
          "shell.execute_reply": "2024-06-23T09:43:58.681343Z"
        },
        "trusted": true,
        "id": "610ih1fi3MgV"
      },
      "execution_count": null,
      "outputs": []
    },
    {
      "cell_type": "markdown",
      "source": [
        "## Intergrate with the Emotion Model and update Emotions"
      ],
      "metadata": {
        "id": "-joSey003MgV"
      }
    },
    {
      "cell_type": "code",
      "source": [
        "output=emotion_analyzer.predict(balanced_df.Tweet.iloc[0])"
      ],
      "metadata": {
        "id": "rl-DlX_K6PZx",
        "execution": {
          "iopub.status.busy": "2024-06-23T09:43:58.683391Z",
          "iopub.execute_input": "2024-06-23T09:43:58.683761Z",
          "iopub.status.idle": "2024-06-23T09:43:59.620729Z",
          "shell.execute_reply.started": "2024-06-23T09:43:58.68373Z",
          "shell.execute_reply": "2024-06-23T09:43:59.619883Z"
        },
        "trusted": true
      },
      "execution_count": null,
      "outputs": []
    },
    {
      "cell_type": "code",
      "source": [
        "from typing import DefaultDict, List\n",
        "\n",
        "sentiments = DefaultDict(list)\n",
        "for tweet in balanced_df.Tweet:\n",
        "  probas = emotion_analyzer.predict(tweet).probas\n",
        "  for key, value in probas.items():\n",
        "    sentiments[key].append(value)"
      ],
      "metadata": {
        "id": "dLZeDepS6d7Z",
        "execution": {
          "iopub.status.busy": "2024-06-23T09:43:59.621948Z",
          "iopub.execute_input": "2024-06-23T09:43:59.622236Z",
          "iopub.status.idle": "2024-06-23T09:50:18.586594Z",
          "shell.execute_reply.started": "2024-06-23T09:43:59.622211Z",
          "shell.execute_reply": "2024-06-23T09:50:18.585472Z"
        },
        "trusted": true
      },
      "execution_count": null,
      "outputs": []
    },
    {
      "cell_type": "code",
      "source": [
        "for key, value in sentiments.items():\n",
        "  #\n",
        "    balanced_df[key] = value\n",
        "balanced_df"
      ],
      "metadata": {
        "id": "rfBkEkEA5b2X",
        "execution": {
          "iopub.status.busy": "2024-06-23T09:50:18.58812Z",
          "iopub.execute_input": "2024-06-23T09:50:18.588433Z",
          "iopub.status.idle": "2024-06-23T09:50:18.638417Z",
          "shell.execute_reply.started": "2024-06-23T09:50:18.588407Z",
          "shell.execute_reply": "2024-06-23T09:50:18.637437Z"
        },
        "trusted": true
      },
      "execution_count": null,
      "outputs": []
    },
    {
      "cell_type": "code",
      "source": [
        "#print(balanced_df[balanced_df['others'] > 0.5])\n",
        "#n=1000\n",
        "#for index, row in balanced_df.iterrows():\n",
        "#      if row['others']>.5:\n",
        "#            tweet = row['Tweet']  # Access the tweet text using the column name\n",
        "#            print(tweet)\n",
        "#            n+=1\n",
        "#            if n==1000:\n",
        "#                exit"
      ],
      "metadata": {
        "execution": {
          "iopub.status.busy": "2024-06-23T10:40:26.152186Z",
          "iopub.execute_input": "2024-06-23T10:40:26.152584Z",
          "iopub.status.idle": "2024-06-23T10:40:26.156854Z",
          "shell.execute_reply.started": "2024-06-23T10:40:26.152553Z",
          "shell.execute_reply": "2024-06-23T10:40:26.155865Z"
        },
        "trusted": true,
        "id": "jgmZS8ne3MgW"
      },
      "execution_count": null,
      "outputs": []
    },
    {
      "cell_type": "code",
      "source": [
        "balanced_df_data= balanced_df.drop(columns=['Date','Tweet','Sentiment'])\n",
        "balanced_df_data"
      ],
      "metadata": {
        "execution": {
          "iopub.status.busy": "2024-06-23T09:50:18.639572Z",
          "iopub.execute_input": "2024-06-23T09:50:18.639879Z",
          "iopub.status.idle": "2024-06-23T09:50:18.67131Z",
          "shell.execute_reply.started": "2024-06-23T09:50:18.639852Z",
          "shell.execute_reply": "2024-06-23T09:50:18.670395Z"
        },
        "trusted": true,
        "id": "CJS9ESmG3MgW"
      },
      "execution_count": null,
      "outputs": []
    },
    {
      "cell_type": "code",
      "source": [
        "balanced_df_data"
      ],
      "metadata": {
        "execution": {
          "iopub.status.busy": "2024-06-23T12:03:52.57352Z",
          "iopub.execute_input": "2024-06-23T12:03:52.573878Z",
          "iopub.status.idle": "2024-06-23T12:03:52.591606Z",
          "shell.execute_reply.started": "2024-06-23T12:03:52.573849Z",
          "shell.execute_reply": "2024-06-23T12:03:52.590528Z"
        },
        "trusted": true,
        "id": "HQP7OzG13MgX"
      },
      "execution_count": null,
      "outputs": []
    },
    {
      "cell_type": "code",
      "source": [
        "# Filter out unwanted columns\n",
        "balanced_df_data_filter = balanced_df_data.drop(columns=['others','Other']) # let's remove the other colums since those are unrelevent comments to the selected emotions.\n",
        "\n",
        "# Group data by candidate and calculate mean sentiment scores\n",
        "df_grouped = balanced_df_data_filter.groupby('Candidate').mean()\n",
        "\n",
        "df_grouped.reset_index(inplace=True)\n",
        "\n",
        "# Create horizontal bar chart\n",
        "df_grouped.set_index('Candidate', inplace=True)\n",
        "ax = df_grouped.plot(kind='barh', figsize=(10, 6), width=0.9,color=['#FBB008', '#0000ff','#FB4108','#045029','#a0522d','#800080'])  # Adjust figure size as needed\n",
        "\n",
        "\n",
        "\n",
        "plt.title('Sentiment Analysis by Candidate (Mean Scores)')\n",
        "plt.xlabel('Average Score')\n",
        "plt.ylabel('Candidate')\n",
        "plt.legend(title='Sentiment')\n",
        "plt.tight_layout()\n",
        "plt.show()"
      ],
      "metadata": {
        "execution": {
          "iopub.status.busy": "2024-06-23T18:15:41.879946Z",
          "iopub.execute_input": "2024-06-23T18:15:41.880361Z",
          "iopub.status.idle": "2024-06-23T18:15:42.313131Z",
          "shell.execute_reply.started": "2024-06-23T18:15:41.880326Z",
          "shell.execute_reply": "2024-06-23T18:15:42.311689Z"
        },
        "trusted": true,
        "id": "Ud_WvEaO3MgX",
        "outputId": "aad08b35-dae4-49d9-f747-8edf533271d2"
      },
      "execution_count": null,
      "outputs": [
        {
          "traceback": [
            "\u001b[0;31m---------------------------------------------------------------------------\u001b[0m",
            "\u001b[0;31mNameError\u001b[0m                                 Traceback (most recent call last)",
            "Cell \u001b[0;32mIn[1], line 2\u001b[0m\n\u001b[1;32m      1\u001b[0m \u001b[38;5;66;03m# Filter out unwanted columns\u001b[39;00m\n\u001b[0;32m----> 2\u001b[0m balanced_df_data_filter \u001b[38;5;241m=\u001b[39m \u001b[43mbalanced_df_data\u001b[49m\u001b[38;5;241m.\u001b[39mdrop(columns\u001b[38;5;241m=\u001b[39m[\u001b[38;5;124m'\u001b[39m\u001b[38;5;124mothers\u001b[39m\u001b[38;5;124m'\u001b[39m,\u001b[38;5;124m'\u001b[39m\u001b[38;5;124mOther\u001b[39m\u001b[38;5;124m'\u001b[39m]) \u001b[38;5;66;03m# let's remove the other colums since those are unrelevent comments to the selected emotions.\u001b[39;00m\n\u001b[1;32m      4\u001b[0m \u001b[38;5;66;03m# Group data by candidate and calculate mean sentiment scores\u001b[39;00m\n\u001b[1;32m      5\u001b[0m df_grouped \u001b[38;5;241m=\u001b[39m balanced_df_data_filter\u001b[38;5;241m.\u001b[39mgroupby(\u001b[38;5;124m'\u001b[39m\u001b[38;5;124mCandidate\u001b[39m\u001b[38;5;124m'\u001b[39m)\u001b[38;5;241m.\u001b[39mmean()\n",
            "\u001b[0;31mNameError\u001b[0m: name 'balanced_df_data' is not defined"
          ],
          "ename": "NameError",
          "evalue": "name 'balanced_df_data' is not defined",
          "output_type": "error"
        }
      ]
    },
    {
      "cell_type": "markdown",
      "source": [
        "## Conclusion: Sentiment Distribution - Modi vs. Rahul\n",
        "## Our analysis of sentiment distribution in comments related to Modi and Rahul reveals distinct patterns:\n",
        "\n",
        "### Modi-related Comments: The sentiments of joy, sadness, and fear are predominantly associated with comments about Modi.\n",
        "### Rahul-related Comments: Comments about Rahul show higher associations with anger, surprise, and disgust.\n",
        "### Significant Ratios: The ratios of disgust, anger, and joy exhibit notable differences, underscoring the varying emotional responses elicited by each figure.\n",
        "\n"
      ],
      "metadata": {
        "id": "hR47iO0m3MgY"
      }
    },
    {
      "cell_type": "markdown",
      "source": [
        "## Emotion Classification\n",
        "#### Emotions can often be classified into broader categories based on their characteristics and typical expressions. Here's a common classification for the emotions based on the ones you've listed:\n",
        "\n",
        "### Positive Emotions:\n",
        "#### - Joy: A feeling of happiness or pleasure.\n",
        "#### - Surprise: Feeling startled or amazed.\n",
        "\n",
        "### Negative Emotions:\n",
        "#### - Sadness: Feeling unhappy, sorrowful, or disappointed.\n",
        "#### - Anger: Feeling irritated, frustrated, or hostile.\n",
        "#### - Disgust: Feeling strong aversion or revulsion towards something.\n",
        "#### - Fear: Feeling afraid, anxious, or scared.\n",
        "\n",
        "##### These emotions can be grouped into positive (joy, surprise) and negative (sadness, anger, disgust, fear) categories based on their affective valence (positive or negative) and typical psychological and physiological responses."
      ],
      "metadata": {
        "id": "byR4R8GH3Mgg"
      }
    },
    {
      "cell_type": "code",
      "source": [
        "# Convert data to DataFrame\n",
        "summary_df = pd.DataFrame(data)\n",
        "summary_df.set_index('Candidate', inplace=True)\n",
        "\n",
        "# Define colors for positive and negative sentiments\n",
        "colors = ['#276205', '#FA2F04']  # Blue for Positive, Orange for Negative\n",
        "\n",
        "# Plotting the grouped horizontal bar chart\n",
        "ax = summary_df[['Positive', 'Negative']].plot(kind='barh', width=0.4, stacked=True, color=colors, figsize=(10, 4))\n",
        "\n",
        "# Customizing the chart\n",
        "plt.title('Sentiment Distribution: Modi vs. Rahul')\n",
        "plt.ylabel('Candidate')\n",
        "plt.xlabel('Mean Score')\n",
        "\n",
        "# Adding mean score values at the end of each bar\n",
        "for i, (pos, neg) in enumerate(zip(summary_df['Positive'], summary_df['Negative'])):\n",
        "    mean_score = (pos + neg) / 2  # Calculate mean score\n",
        "    ax.text(pos + neg + 0.02, i, f'{mean_score:.2f}', ha='center', va='center', color='black')\n",
        "\n",
        "# Adding a legend\n",
        "plt.legend(['Positive', 'Negative'], title='Sentiment', loc='lower right')\n",
        "\n",
        "# Show the plot\n",
        "plt.show()\n",
        "print(summary_df)"
      ],
      "metadata": {
        "execution": {
          "iopub.status.busy": "2024-06-23T13:34:11.661438Z",
          "iopub.execute_input": "2024-06-23T13:34:11.661828Z",
          "iopub.status.idle": "2024-06-23T13:34:11.919058Z",
          "shell.execute_reply.started": "2024-06-23T13:34:11.661795Z",
          "shell.execute_reply": "2024-06-23T13:34:11.917948Z"
        },
        "trusted": true,
        "id": "O5FfLseM3Mgg"
      },
      "execution_count": null,
      "outputs": []
    },
    {
      "cell_type": "markdown",
      "source": [
        "## Summary of Sentiment Analysis\n",
        "\n",
        "### Data:\n",
        "- **Modi**: Positive = 0.117563, Negative = 0.294752\n",
        "- **Rahul**: Positive = 0.060727, Negative = 0.394429\n",
        "\n",
        "### Key Observations:\n",
        "\n",
        "#### Modi exhibits slightly higher positive emotions in comments compared to Rahul.\n",
        "#### However, Rahul has a significantly higher proportion of negative emotional comments overall.\n",
        "##### Remember that context and time frame play a crucial role in interpreting these sentiment scores."
      ],
      "metadata": {
        "id": "E0tkifj33Mgh"
      }
    },
    {
      "cell_type": "markdown",
      "source": [
        "## Note: Actual Result\n",
        "\n",
        "### Source: https://en.wikipedia.org/wiki/Results_of_the_2019_Indian_general_election\n"
      ],
      "metadata": {
        "id": "l-SfbOUB3Mgh"
      }
    },
    {
      "cell_type": "markdown",
      "source": [
        "### Compiled by Uditha C WICK."
      ],
      "metadata": {
        "id": "I9JXeKNS3Mgh"
      }
    }
  ]
}